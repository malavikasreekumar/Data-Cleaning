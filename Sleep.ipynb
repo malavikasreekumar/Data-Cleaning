{
 "cells": [
  {
   "cell_type": "code",
   "execution_count": 174,
   "id": "3e1fb39f",
   "metadata": {},
   "outputs": [],
   "source": [
    "import pandas as pd\n",
    "import numpy as np\n",
    "import matplotlib.pyplot as plt"
   ]
  },
  {
   "cell_type": "code",
   "execution_count": 175,
   "id": "8cf33401",
   "metadata": {},
   "outputs": [],
   "source": [
    "df=pd.read_csv(\"Sleep_Efficiency.csv\")"
   ]
  },
  {
   "cell_type": "code",
   "execution_count": 176,
   "id": "0ce2af0f",
   "metadata": {},
   "outputs": [
    {
     "data": {
      "text/html": [
       "<div>\n",
       "<style scoped>\n",
       "    .dataframe tbody tr th:only-of-type {\n",
       "        vertical-align: middle;\n",
       "    }\n",
       "\n",
       "    .dataframe tbody tr th {\n",
       "        vertical-align: top;\n",
       "    }\n",
       "\n",
       "    .dataframe thead th {\n",
       "        text-align: right;\n",
       "    }\n",
       "</style>\n",
       "<table border=\"1\" class=\"dataframe\">\n",
       "  <thead>\n",
       "    <tr style=\"text-align: right;\">\n",
       "      <th></th>\n",
       "      <th>ID</th>\n",
       "      <th>Age</th>\n",
       "      <th>Gender</th>\n",
       "      <th>Bedtime</th>\n",
       "      <th>Wakeup time</th>\n",
       "      <th>Sleep duration</th>\n",
       "      <th>Sleep efficiency</th>\n",
       "      <th>REM sleep percentage</th>\n",
       "      <th>Deep sleep percentage</th>\n",
       "      <th>Light sleep percentage</th>\n",
       "      <th>Awakenings</th>\n",
       "      <th>Caffeine consumption</th>\n",
       "      <th>Alcohol consumption</th>\n",
       "      <th>Smoking status</th>\n",
       "      <th>Exercise frequency</th>\n",
       "    </tr>\n",
       "  </thead>\n",
       "  <tbody>\n",
       "    <tr>\n",
       "      <th>0</th>\n",
       "      <td>1</td>\n",
       "      <td>65</td>\n",
       "      <td>Female</td>\n",
       "      <td>2021-03-06 01:00:00</td>\n",
       "      <td>2021-03-06 07:00:00</td>\n",
       "      <td>6.0</td>\n",
       "      <td>0.88</td>\n",
       "      <td>18</td>\n",
       "      <td>70</td>\n",
       "      <td>12</td>\n",
       "      <td>0.0</td>\n",
       "      <td>0.0</td>\n",
       "      <td>0.0</td>\n",
       "      <td>Yes</td>\n",
       "      <td>3.0</td>\n",
       "    </tr>\n",
       "    <tr>\n",
       "      <th>1</th>\n",
       "      <td>2</td>\n",
       "      <td>69</td>\n",
       "      <td>Male</td>\n",
       "      <td>2021-12-05 02:00:00</td>\n",
       "      <td>2021-12-05 09:00:00</td>\n",
       "      <td>7.0</td>\n",
       "      <td>0.66</td>\n",
       "      <td>19</td>\n",
       "      <td>28</td>\n",
       "      <td>53</td>\n",
       "      <td>3.0</td>\n",
       "      <td>0.0</td>\n",
       "      <td>3.0</td>\n",
       "      <td>Yes</td>\n",
       "      <td>3.0</td>\n",
       "    </tr>\n",
       "    <tr>\n",
       "      <th>2</th>\n",
       "      <td>3</td>\n",
       "      <td>40</td>\n",
       "      <td>Female</td>\n",
       "      <td>2021-05-25 21:30:00</td>\n",
       "      <td>2021-05-25 05:30:00</td>\n",
       "      <td>8.0</td>\n",
       "      <td>0.89</td>\n",
       "      <td>20</td>\n",
       "      <td>70</td>\n",
       "      <td>10</td>\n",
       "      <td>1.0</td>\n",
       "      <td>0.0</td>\n",
       "      <td>0.0</td>\n",
       "      <td>No</td>\n",
       "      <td>3.0</td>\n",
       "    </tr>\n",
       "    <tr>\n",
       "      <th>3</th>\n",
       "      <td>4</td>\n",
       "      <td>40</td>\n",
       "      <td>Female</td>\n",
       "      <td>2021-11-03 02:30:00</td>\n",
       "      <td>2021-11-03 08:30:00</td>\n",
       "      <td>6.0</td>\n",
       "      <td>0.51</td>\n",
       "      <td>23</td>\n",
       "      <td>25</td>\n",
       "      <td>52</td>\n",
       "      <td>3.0</td>\n",
       "      <td>50.0</td>\n",
       "      <td>5.0</td>\n",
       "      <td>Yes</td>\n",
       "      <td>1.0</td>\n",
       "    </tr>\n",
       "    <tr>\n",
       "      <th>4</th>\n",
       "      <td>5</td>\n",
       "      <td>57</td>\n",
       "      <td>Male</td>\n",
       "      <td>2021-03-13 01:00:00</td>\n",
       "      <td>2021-03-13 09:00:00</td>\n",
       "      <td>8.0</td>\n",
       "      <td>0.76</td>\n",
       "      <td>27</td>\n",
       "      <td>55</td>\n",
       "      <td>18</td>\n",
       "      <td>3.0</td>\n",
       "      <td>0.0</td>\n",
       "      <td>3.0</td>\n",
       "      <td>No</td>\n",
       "      <td>3.0</td>\n",
       "    </tr>\n",
       "  </tbody>\n",
       "</table>\n",
       "</div>"
      ],
      "text/plain": [
       "   ID  Age  Gender              Bedtime          Wakeup time  Sleep duration  \\\n",
       "0   1   65  Female  2021-03-06 01:00:00  2021-03-06 07:00:00             6.0   \n",
       "1   2   69    Male  2021-12-05 02:00:00  2021-12-05 09:00:00             7.0   \n",
       "2   3   40  Female  2021-05-25 21:30:00  2021-05-25 05:30:00             8.0   \n",
       "3   4   40  Female  2021-11-03 02:30:00  2021-11-03 08:30:00             6.0   \n",
       "4   5   57    Male  2021-03-13 01:00:00  2021-03-13 09:00:00             8.0   \n",
       "\n",
       "   Sleep efficiency  REM sleep percentage  Deep sleep percentage  \\\n",
       "0              0.88                    18                     70   \n",
       "1              0.66                    19                     28   \n",
       "2              0.89                    20                     70   \n",
       "3              0.51                    23                     25   \n",
       "4              0.76                    27                     55   \n",
       "\n",
       "   Light sleep percentage  Awakenings  Caffeine consumption  \\\n",
       "0                      12         0.0                   0.0   \n",
       "1                      53         3.0                   0.0   \n",
       "2                      10         1.0                   0.0   \n",
       "3                      52         3.0                  50.0   \n",
       "4                      18         3.0                   0.0   \n",
       "\n",
       "   Alcohol consumption Smoking status  Exercise frequency  \n",
       "0                  0.0            Yes                 3.0  \n",
       "1                  3.0            Yes                 3.0  \n",
       "2                  0.0             No                 3.0  \n",
       "3                  5.0            Yes                 1.0  \n",
       "4                  3.0             No                 3.0  "
      ]
     },
     "execution_count": 176,
     "metadata": {},
     "output_type": "execute_result"
    }
   ],
   "source": [
    "df.head()"
   ]
  },
  {
   "cell_type": "markdown",
   "id": "69331a43",
   "metadata": {},
   "source": [
    "### Missing Value"
   ]
  },
  {
   "cell_type": "code",
   "execution_count": 177,
   "id": "9f44fc26",
   "metadata": {},
   "outputs": [
    {
     "data": {
      "text/plain": [
       "ID                         0\n",
       "Age                        0\n",
       "Gender                     0\n",
       "Bedtime                    0\n",
       "Wakeup time                0\n",
       "Sleep duration             0\n",
       "Sleep efficiency           0\n",
       "REM sleep percentage       0\n",
       "Deep sleep percentage      0\n",
       "Light sleep percentage     0\n",
       "Awakenings                20\n",
       "Caffeine consumption      25\n",
       "Alcohol consumption       14\n",
       "Smoking status             0\n",
       "Exercise frequency         6\n",
       "dtype: int64"
      ]
     },
     "execution_count": 177,
     "metadata": {},
     "output_type": "execute_result"
    }
   ],
   "source": [
    "df.isnull().sum()"
   ]
  },
  {
   "cell_type": "markdown",
   "id": "415581cf",
   "metadata": {},
   "source": [
    "#### Dealing with Missing Value"
   ]
  },
  {
   "cell_type": "code",
   "execution_count": 178,
   "id": "62fc92ef",
   "metadata": {},
   "outputs": [
    {
     "data": {
      "text/html": [
       "<div>\n",
       "<style scoped>\n",
       "    .dataframe tbody tr th:only-of-type {\n",
       "        vertical-align: middle;\n",
       "    }\n",
       "\n",
       "    .dataframe tbody tr th {\n",
       "        vertical-align: top;\n",
       "    }\n",
       "\n",
       "    .dataframe thead th {\n",
       "        text-align: right;\n",
       "    }\n",
       "</style>\n",
       "<table border=\"1\" class=\"dataframe\">\n",
       "  <thead>\n",
       "    <tr style=\"text-align: right;\">\n",
       "      <th></th>\n",
       "      <th>ID</th>\n",
       "      <th>Age</th>\n",
       "      <th>Gender</th>\n",
       "      <th>Bedtime</th>\n",
       "      <th>Wakeup time</th>\n",
       "      <th>Sleep duration</th>\n",
       "      <th>Sleep efficiency</th>\n",
       "      <th>REM sleep percentage</th>\n",
       "      <th>Deep sleep percentage</th>\n",
       "      <th>Light sleep percentage</th>\n",
       "      <th>Awakenings</th>\n",
       "      <th>Caffeine consumption</th>\n",
       "      <th>Alcohol consumption</th>\n",
       "      <th>Smoking status</th>\n",
       "      <th>Exercise frequency</th>\n",
       "    </tr>\n",
       "  </thead>\n",
       "  <tbody>\n",
       "    <tr>\n",
       "      <th>0</th>\n",
       "      <td>1</td>\n",
       "      <td>65</td>\n",
       "      <td>Female</td>\n",
       "      <td>2021-03-06 01:00:00</td>\n",
       "      <td>2021-03-06 07:00:00</td>\n",
       "      <td>6.0</td>\n",
       "      <td>0.88</td>\n",
       "      <td>18</td>\n",
       "      <td>70</td>\n",
       "      <td>12</td>\n",
       "      <td>0.0</td>\n",
       "      <td>0.0</td>\n",
       "      <td>0.0</td>\n",
       "      <td>Yes</td>\n",
       "      <td>3.0</td>\n",
       "    </tr>\n",
       "    <tr>\n",
       "      <th>1</th>\n",
       "      <td>2</td>\n",
       "      <td>69</td>\n",
       "      <td>Male</td>\n",
       "      <td>2021-12-05 02:00:00</td>\n",
       "      <td>2021-12-05 09:00:00</td>\n",
       "      <td>7.0</td>\n",
       "      <td>0.66</td>\n",
       "      <td>19</td>\n",
       "      <td>28</td>\n",
       "      <td>53</td>\n",
       "      <td>3.0</td>\n",
       "      <td>0.0</td>\n",
       "      <td>3.0</td>\n",
       "      <td>Yes</td>\n",
       "      <td>3.0</td>\n",
       "    </tr>\n",
       "    <tr>\n",
       "      <th>2</th>\n",
       "      <td>3</td>\n",
       "      <td>40</td>\n",
       "      <td>Female</td>\n",
       "      <td>2021-05-25 21:30:00</td>\n",
       "      <td>2021-05-25 05:30:00</td>\n",
       "      <td>8.0</td>\n",
       "      <td>0.89</td>\n",
       "      <td>20</td>\n",
       "      <td>70</td>\n",
       "      <td>10</td>\n",
       "      <td>1.0</td>\n",
       "      <td>0.0</td>\n",
       "      <td>0.0</td>\n",
       "      <td>No</td>\n",
       "      <td>3.0</td>\n",
       "    </tr>\n",
       "    <tr>\n",
       "      <th>3</th>\n",
       "      <td>4</td>\n",
       "      <td>40</td>\n",
       "      <td>Female</td>\n",
       "      <td>2021-11-03 02:30:00</td>\n",
       "      <td>2021-11-03 08:30:00</td>\n",
       "      <td>6.0</td>\n",
       "      <td>0.51</td>\n",
       "      <td>23</td>\n",
       "      <td>25</td>\n",
       "      <td>52</td>\n",
       "      <td>3.0</td>\n",
       "      <td>50.0</td>\n",
       "      <td>5.0</td>\n",
       "      <td>Yes</td>\n",
       "      <td>1.0</td>\n",
       "    </tr>\n",
       "    <tr>\n",
       "      <th>4</th>\n",
       "      <td>5</td>\n",
       "      <td>57</td>\n",
       "      <td>Male</td>\n",
       "      <td>2021-03-13 01:00:00</td>\n",
       "      <td>2021-03-13 09:00:00</td>\n",
       "      <td>8.0</td>\n",
       "      <td>0.76</td>\n",
       "      <td>27</td>\n",
       "      <td>55</td>\n",
       "      <td>18</td>\n",
       "      <td>3.0</td>\n",
       "      <td>0.0</td>\n",
       "      <td>3.0</td>\n",
       "      <td>No</td>\n",
       "      <td>3.0</td>\n",
       "    </tr>\n",
       "  </tbody>\n",
       "</table>\n",
       "</div>"
      ],
      "text/plain": [
       "   ID  Age  Gender              Bedtime          Wakeup time  Sleep duration  \\\n",
       "0   1   65  Female  2021-03-06 01:00:00  2021-03-06 07:00:00             6.0   \n",
       "1   2   69    Male  2021-12-05 02:00:00  2021-12-05 09:00:00             7.0   \n",
       "2   3   40  Female  2021-05-25 21:30:00  2021-05-25 05:30:00             8.0   \n",
       "3   4   40  Female  2021-11-03 02:30:00  2021-11-03 08:30:00             6.0   \n",
       "4   5   57    Male  2021-03-13 01:00:00  2021-03-13 09:00:00             8.0   \n",
       "\n",
       "   Sleep efficiency  REM sleep percentage  Deep sleep percentage  \\\n",
       "0              0.88                    18                     70   \n",
       "1              0.66                    19                     28   \n",
       "2              0.89                    20                     70   \n",
       "3              0.51                    23                     25   \n",
       "4              0.76                    27                     55   \n",
       "\n",
       "   Light sleep percentage  Awakenings  Caffeine consumption  \\\n",
       "0                      12         0.0                   0.0   \n",
       "1                      53         3.0                   0.0   \n",
       "2                      10         1.0                   0.0   \n",
       "3                      52         3.0                  50.0   \n",
       "4                      18         3.0                   0.0   \n",
       "\n",
       "   Alcohol consumption Smoking status  Exercise frequency  \n",
       "0                  0.0            Yes                 3.0  \n",
       "1                  3.0            Yes                 3.0  \n",
       "2                  0.0             No                 3.0  \n",
       "3                  5.0            Yes                 1.0  \n",
       "4                  3.0             No                 3.0  "
      ]
     },
     "execution_count": 178,
     "metadata": {},
     "output_type": "execute_result"
    }
   ],
   "source": [
    "df['Awakenings'].fillna(int(df['Awakenings'].mean()), inplace=True)\n",
    "df['Caffeine consumption'].fillna(int(df['Caffeine consumption'].mean()), inplace=True)\n",
    "df['Alcohol consumption'].fillna(int(df['Alcohol consumption'].mean()), inplace=True)\n",
    "df['Exercise frequency'].fillna(int(df['Exercise frequency'].mean()), inplace=True)\n",
    "df.head()"
   ]
  },
  {
   "cell_type": "code",
   "execution_count": 179,
   "id": "07b16961",
   "metadata": {},
   "outputs": [
    {
     "data": {
      "text/plain": [
       "ID                        0\n",
       "Age                       0\n",
       "Gender                    0\n",
       "Bedtime                   0\n",
       "Wakeup time               0\n",
       "Sleep duration            0\n",
       "Sleep efficiency          0\n",
       "REM sleep percentage      0\n",
       "Deep sleep percentage     0\n",
       "Light sleep percentage    0\n",
       "Awakenings                0\n",
       "Caffeine consumption      0\n",
       "Alcohol consumption       0\n",
       "Smoking status            0\n",
       "Exercise frequency        0\n",
       "dtype: int64"
      ]
     },
     "execution_count": 179,
     "metadata": {},
     "output_type": "execute_result"
    }
   ],
   "source": [
    "df.isnull().sum()"
   ]
  },
  {
   "cell_type": "code",
   "execution_count": 180,
   "id": "4255d482",
   "metadata": {},
   "outputs": [
    {
     "name": "stdout",
     "output_type": "stream",
     "text": [
      "0      False\n",
      "1      False\n",
      "2      False\n",
      "3      False\n",
      "4      False\n",
      "       ...  \n",
      "447    False\n",
      "448    False\n",
      "449    False\n",
      "450    False\n",
      "451    False\n",
      "Length: 452, dtype: bool\n"
     ]
    }
   ],
   "source": [
    "bool_series = df.duplicated()\n",
    "print(bool_series)"
   ]
  },
  {
   "cell_type": "code",
   "execution_count": 181,
   "id": "7bfba930",
   "metadata": {},
   "outputs": [
    {
     "name": "stdout",
     "output_type": "stream",
     "text": [
      "   ID  Age  Gender              Bedtime          Wakeup time  Sleep duration  \\\n",
      "0   1   65  Female  2021-03-06 01:00:00  2021-03-06 07:00:00             6.0   \n",
      "1   2   69    Male  2021-12-05 02:00:00  2021-12-05 09:00:00             7.0   \n",
      "2   3   40  Female  2021-05-25 21:30:00  2021-05-25 05:30:00             8.0   \n",
      "3   4   40  Female  2021-11-03 02:30:00  2021-11-03 08:30:00             6.0   \n",
      "4   5   57    Male  2021-03-13 01:00:00  2021-03-13 09:00:00             8.0   \n",
      "\n",
      "   Sleep efficiency  REM sleep percentage  Deep sleep percentage  \\\n",
      "0              0.88                    18                     70   \n",
      "1              0.66                    19                     28   \n",
      "2              0.89                    20                     70   \n",
      "3              0.51                    23                     25   \n",
      "4              0.76                    27                     55   \n",
      "\n",
      "   Light sleep percentage  Awakenings  Caffeine consumption  \\\n",
      "0                      12         0.0                   0.0   \n",
      "1                      53         3.0                   0.0   \n",
      "2                      10         1.0                   0.0   \n",
      "3                      52         3.0                  50.0   \n",
      "4                      18         3.0                   0.0   \n",
      "\n",
      "   Alcohol consumption Smoking status  Exercise frequency  Gen_new    0    1  \n",
      "0                  0.0            Yes                 3.0        0  1.0  0.0  \n",
      "1                  3.0            Yes                 3.0        1  0.0  1.0  \n",
      "2                  0.0             No                 3.0        0  1.0  0.0  \n",
      "3                  5.0            Yes                 1.0        0  1.0  0.0  \n",
      "4                  3.0             No                 3.0        1  0.0  1.0  \n"
     ]
    }
   ],
   "source": [
    "from sklearn.preprocessing import OneHotEncoder\n",
    "#one_hot_encoded_data = pd.get_dummies(df, columns = ['Gender'])\n",
    "#df=df.drop(columns=['Bedtime','Wakeup time'])\n",
    "#df = pd.get_dummies(df, columns = ['Gender'])\n",
    "df['Gender']=df['Gender'].astype('category')\n",
    "df['Gen_new']=df['Gender'].cat.codes\n",
    "enc=OneHotEncoder()\n",
    "enc_data=pd.DataFrame(enc.fit_transform(df[['Gen_new',]]).toarray())\n",
    " \n",
    "#Merge with main\n",
    "df=df.join(enc_data)\n",
    " \n",
    "print(df.head())\n",
    "#print(one_hot_encoded_data)"
   ]
  },
  {
   "cell_type": "markdown",
   "id": "6c223130",
   "metadata": {},
   "source": [
    "#### Correlation"
   ]
  },
  {
   "cell_type": "code",
   "execution_count": 182,
   "id": "db26c45d",
   "metadata": {},
   "outputs": [
    {
     "data": {
      "text/html": [
       "<div>\n",
       "<style scoped>\n",
       "    .dataframe tbody tr th:only-of-type {\n",
       "        vertical-align: middle;\n",
       "    }\n",
       "\n",
       "    .dataframe tbody tr th {\n",
       "        vertical-align: top;\n",
       "    }\n",
       "\n",
       "    .dataframe thead th {\n",
       "        text-align: right;\n",
       "    }\n",
       "</style>\n",
       "<table border=\"1\" class=\"dataframe\">\n",
       "  <thead>\n",
       "    <tr style=\"text-align: right;\">\n",
       "      <th></th>\n",
       "      <th>ID</th>\n",
       "      <th>Age</th>\n",
       "      <th>Sleep duration</th>\n",
       "      <th>Sleep efficiency</th>\n",
       "      <th>REM sleep percentage</th>\n",
       "      <th>Deep sleep percentage</th>\n",
       "      <th>Light sleep percentage</th>\n",
       "      <th>Awakenings</th>\n",
       "      <th>Caffeine consumption</th>\n",
       "      <th>Alcohol consumption</th>\n",
       "      <th>Exercise frequency</th>\n",
       "      <th>Gen_new</th>\n",
       "      <th>0</th>\n",
       "      <th>1</th>\n",
       "    </tr>\n",
       "  </thead>\n",
       "  <tbody>\n",
       "    <tr>\n",
       "      <th>ID</th>\n",
       "      <td>1.000000</td>\n",
       "      <td>0.021310</td>\n",
       "      <td>0.014333</td>\n",
       "      <td>-0.025624</td>\n",
       "      <td>0.051636</td>\n",
       "      <td>-0.047300</td>\n",
       "      <td>0.036463</td>\n",
       "      <td>-0.058448</td>\n",
       "      <td>-0.057293</td>\n",
       "      <td>0.112515</td>\n",
       "      <td>0.023232</td>\n",
       "      <td>-0.013124</td>\n",
       "      <td>0.013124</td>\n",
       "      <td>-0.013124</td>\n",
       "    </tr>\n",
       "    <tr>\n",
       "      <th>Age</th>\n",
       "      <td>0.021310</td>\n",
       "      <td>1.000000</td>\n",
       "      <td>-0.062462</td>\n",
       "      <td>0.098357</td>\n",
       "      <td>0.042091</td>\n",
       "      <td>0.021730</td>\n",
       "      <td>-0.031905</td>\n",
       "      <td>-0.016677</td>\n",
       "      <td>-0.167806</td>\n",
       "      <td>0.047380</td>\n",
       "      <td>0.075936</td>\n",
       "      <td>0.244468</td>\n",
       "      <td>-0.244468</td>\n",
       "      <td>0.244468</td>\n",
       "    </tr>\n",
       "    <tr>\n",
       "      <th>Sleep duration</th>\n",
       "      <td>0.014333</td>\n",
       "      <td>-0.062462</td>\n",
       "      <td>1.000000</td>\n",
       "      <td>-0.027467</td>\n",
       "      <td>-0.015940</td>\n",
       "      <td>-0.037304</td>\n",
       "      <td>0.041804</td>\n",
       "      <td>-0.000962</td>\n",
       "      <td>-0.014419</td>\n",
       "      <td>-0.045510</td>\n",
       "      <td>-0.070907</td>\n",
       "      <td>-0.044376</td>\n",
       "      <td>0.044376</td>\n",
       "      <td>-0.044376</td>\n",
       "    </tr>\n",
       "    <tr>\n",
       "      <th>Sleep efficiency</th>\n",
       "      <td>-0.025624</td>\n",
       "      <td>0.098357</td>\n",
       "      <td>-0.027467</td>\n",
       "      <td>1.000000</td>\n",
       "      <td>0.062362</td>\n",
       "      <td>0.787335</td>\n",
       "      <td>-0.819204</td>\n",
       "      <td>-0.552179</td>\n",
       "      <td>0.063223</td>\n",
       "      <td>-0.383701</td>\n",
       "      <td>0.258393</td>\n",
       "      <td>0.010062</td>\n",
       "      <td>-0.010062</td>\n",
       "      <td>0.010062</td>\n",
       "    </tr>\n",
       "    <tr>\n",
       "      <th>REM sleep percentage</th>\n",
       "      <td>0.051636</td>\n",
       "      <td>0.042091</td>\n",
       "      <td>-0.015940</td>\n",
       "      <td>0.062362</td>\n",
       "      <td>1.000000</td>\n",
       "      <td>-0.208159</td>\n",
       "      <td>-0.017462</td>\n",
       "      <td>-0.026594</td>\n",
       "      <td>0.058064</td>\n",
       "      <td>-0.051111</td>\n",
       "      <td>0.037996</td>\n",
       "      <td>-0.161102</td>\n",
       "      <td>0.161102</td>\n",
       "      <td>-0.161102</td>\n",
       "    </tr>\n",
       "    <tr>\n",
       "      <th>Deep sleep percentage</th>\n",
       "      <td>-0.047300</td>\n",
       "      <td>0.021730</td>\n",
       "      <td>-0.037304</td>\n",
       "      <td>0.787335</td>\n",
       "      <td>-0.208159</td>\n",
       "      <td>1.000000</td>\n",
       "      <td>-0.974311</td>\n",
       "      <td>-0.294568</td>\n",
       "      <td>0.001802</td>\n",
       "      <td>-0.356217</td>\n",
       "      <td>0.174522</td>\n",
       "      <td>0.075939</td>\n",
       "      <td>-0.075939</td>\n",
       "      <td>0.075939</td>\n",
       "    </tr>\n",
       "    <tr>\n",
       "      <th>Light sleep percentage</th>\n",
       "      <td>0.036463</td>\n",
       "      <td>-0.031905</td>\n",
       "      <td>0.041804</td>\n",
       "      <td>-0.819204</td>\n",
       "      <td>-0.017462</td>\n",
       "      <td>-0.974311</td>\n",
       "      <td>1.000000</td>\n",
       "      <td>0.307243</td>\n",
       "      <td>-0.015211</td>\n",
       "      <td>0.375908</td>\n",
       "      <td>-0.187152</td>\n",
       "      <td>-0.040534</td>\n",
       "      <td>0.040534</td>\n",
       "      <td>-0.040534</td>\n",
       "    </tr>\n",
       "    <tr>\n",
       "      <th>Awakenings</th>\n",
       "      <td>-0.058448</td>\n",
       "      <td>-0.016677</td>\n",
       "      <td>-0.000962</td>\n",
       "      <td>-0.552179</td>\n",
       "      <td>-0.026594</td>\n",
       "      <td>-0.294568</td>\n",
       "      <td>0.307243</td>\n",
       "      <td>1.000000</td>\n",
       "      <td>-0.107957</td>\n",
       "      <td>0.192192</td>\n",
       "      <td>-0.220395</td>\n",
       "      <td>0.074029</td>\n",
       "      <td>-0.074029</td>\n",
       "      <td>0.074029</td>\n",
       "    </tr>\n",
       "    <tr>\n",
       "      <th>Caffeine consumption</th>\n",
       "      <td>-0.057293</td>\n",
       "      <td>-0.167806</td>\n",
       "      <td>-0.014419</td>\n",
       "      <td>0.063223</td>\n",
       "      <td>0.058064</td>\n",
       "      <td>0.001802</td>\n",
       "      <td>-0.015211</td>\n",
       "      <td>-0.107957</td>\n",
       "      <td>1.000000</td>\n",
       "      <td>-0.117538</td>\n",
       "      <td>-0.072634</td>\n",
       "      <td>-0.242775</td>\n",
       "      <td>0.242775</td>\n",
       "      <td>-0.242775</td>\n",
       "    </tr>\n",
       "    <tr>\n",
       "      <th>Alcohol consumption</th>\n",
       "      <td>0.112515</td>\n",
       "      <td>0.047380</td>\n",
       "      <td>-0.045510</td>\n",
       "      <td>-0.383701</td>\n",
       "      <td>-0.051111</td>\n",
       "      <td>-0.356217</td>\n",
       "      <td>0.375908</td>\n",
       "      <td>0.192192</td>\n",
       "      <td>-0.117538</td>\n",
       "      <td>1.000000</td>\n",
       "      <td>0.003563</td>\n",
       "      <td>0.057344</td>\n",
       "      <td>-0.057344</td>\n",
       "      <td>0.057344</td>\n",
       "    </tr>\n",
       "    <tr>\n",
       "      <th>Exercise frequency</th>\n",
       "      <td>0.023232</td>\n",
       "      <td>0.075936</td>\n",
       "      <td>-0.070907</td>\n",
       "      <td>0.258393</td>\n",
       "      <td>0.037996</td>\n",
       "      <td>0.174522</td>\n",
       "      <td>-0.187152</td>\n",
       "      <td>-0.220395</td>\n",
       "      <td>-0.072634</td>\n",
       "      <td>0.003563</td>\n",
       "      <td>1.000000</td>\n",
       "      <td>0.227299</td>\n",
       "      <td>-0.227299</td>\n",
       "      <td>0.227299</td>\n",
       "    </tr>\n",
       "    <tr>\n",
       "      <th>Gen_new</th>\n",
       "      <td>-0.013124</td>\n",
       "      <td>0.244468</td>\n",
       "      <td>-0.044376</td>\n",
       "      <td>0.010062</td>\n",
       "      <td>-0.161102</td>\n",
       "      <td>0.075939</td>\n",
       "      <td>-0.040534</td>\n",
       "      <td>0.074029</td>\n",
       "      <td>-0.242775</td>\n",
       "      <td>0.057344</td>\n",
       "      <td>0.227299</td>\n",
       "      <td>1.000000</td>\n",
       "      <td>-1.000000</td>\n",
       "      <td>1.000000</td>\n",
       "    </tr>\n",
       "    <tr>\n",
       "      <th>0</th>\n",
       "      <td>0.013124</td>\n",
       "      <td>-0.244468</td>\n",
       "      <td>0.044376</td>\n",
       "      <td>-0.010062</td>\n",
       "      <td>0.161102</td>\n",
       "      <td>-0.075939</td>\n",
       "      <td>0.040534</td>\n",
       "      <td>-0.074029</td>\n",
       "      <td>0.242775</td>\n",
       "      <td>-0.057344</td>\n",
       "      <td>-0.227299</td>\n",
       "      <td>-1.000000</td>\n",
       "      <td>1.000000</td>\n",
       "      <td>-1.000000</td>\n",
       "    </tr>\n",
       "    <tr>\n",
       "      <th>1</th>\n",
       "      <td>-0.013124</td>\n",
       "      <td>0.244468</td>\n",
       "      <td>-0.044376</td>\n",
       "      <td>0.010062</td>\n",
       "      <td>-0.161102</td>\n",
       "      <td>0.075939</td>\n",
       "      <td>-0.040534</td>\n",
       "      <td>0.074029</td>\n",
       "      <td>-0.242775</td>\n",
       "      <td>0.057344</td>\n",
       "      <td>0.227299</td>\n",
       "      <td>1.000000</td>\n",
       "      <td>-1.000000</td>\n",
       "      <td>1.000000</td>\n",
       "    </tr>\n",
       "  </tbody>\n",
       "</table>\n",
       "</div>"
      ],
      "text/plain": [
       "                              ID       Age  Sleep duration  Sleep efficiency  \\\n",
       "ID                      1.000000  0.021310        0.014333         -0.025624   \n",
       "Age                     0.021310  1.000000       -0.062462          0.098357   \n",
       "Sleep duration          0.014333 -0.062462        1.000000         -0.027467   \n",
       "Sleep efficiency       -0.025624  0.098357       -0.027467          1.000000   \n",
       "REM sleep percentage    0.051636  0.042091       -0.015940          0.062362   \n",
       "Deep sleep percentage  -0.047300  0.021730       -0.037304          0.787335   \n",
       "Light sleep percentage  0.036463 -0.031905        0.041804         -0.819204   \n",
       "Awakenings             -0.058448 -0.016677       -0.000962         -0.552179   \n",
       "Caffeine consumption   -0.057293 -0.167806       -0.014419          0.063223   \n",
       "Alcohol consumption     0.112515  0.047380       -0.045510         -0.383701   \n",
       "Exercise frequency      0.023232  0.075936       -0.070907          0.258393   \n",
       "Gen_new                -0.013124  0.244468       -0.044376          0.010062   \n",
       "0                       0.013124 -0.244468        0.044376         -0.010062   \n",
       "1                      -0.013124  0.244468       -0.044376          0.010062   \n",
       "\n",
       "                        REM sleep percentage  Deep sleep percentage  \\\n",
       "ID                                  0.051636              -0.047300   \n",
       "Age                                 0.042091               0.021730   \n",
       "Sleep duration                     -0.015940              -0.037304   \n",
       "Sleep efficiency                    0.062362               0.787335   \n",
       "REM sleep percentage                1.000000              -0.208159   \n",
       "Deep sleep percentage              -0.208159               1.000000   \n",
       "Light sleep percentage             -0.017462              -0.974311   \n",
       "Awakenings                         -0.026594              -0.294568   \n",
       "Caffeine consumption                0.058064               0.001802   \n",
       "Alcohol consumption                -0.051111              -0.356217   \n",
       "Exercise frequency                  0.037996               0.174522   \n",
       "Gen_new                            -0.161102               0.075939   \n",
       "0                                   0.161102              -0.075939   \n",
       "1                                  -0.161102               0.075939   \n",
       "\n",
       "                        Light sleep percentage  Awakenings  \\\n",
       "ID                                    0.036463   -0.058448   \n",
       "Age                                  -0.031905   -0.016677   \n",
       "Sleep duration                        0.041804   -0.000962   \n",
       "Sleep efficiency                     -0.819204   -0.552179   \n",
       "REM sleep percentage                 -0.017462   -0.026594   \n",
       "Deep sleep percentage                -0.974311   -0.294568   \n",
       "Light sleep percentage                1.000000    0.307243   \n",
       "Awakenings                            0.307243    1.000000   \n",
       "Caffeine consumption                 -0.015211   -0.107957   \n",
       "Alcohol consumption                   0.375908    0.192192   \n",
       "Exercise frequency                   -0.187152   -0.220395   \n",
       "Gen_new                              -0.040534    0.074029   \n",
       "0                                     0.040534   -0.074029   \n",
       "1                                    -0.040534    0.074029   \n",
       "\n",
       "                        Caffeine consumption  Alcohol consumption  \\\n",
       "ID                                 -0.057293             0.112515   \n",
       "Age                                -0.167806             0.047380   \n",
       "Sleep duration                     -0.014419            -0.045510   \n",
       "Sleep efficiency                    0.063223            -0.383701   \n",
       "REM sleep percentage                0.058064            -0.051111   \n",
       "Deep sleep percentage               0.001802            -0.356217   \n",
       "Light sleep percentage             -0.015211             0.375908   \n",
       "Awakenings                         -0.107957             0.192192   \n",
       "Caffeine consumption                1.000000            -0.117538   \n",
       "Alcohol consumption                -0.117538             1.000000   \n",
       "Exercise frequency                 -0.072634             0.003563   \n",
       "Gen_new                            -0.242775             0.057344   \n",
       "0                                   0.242775            -0.057344   \n",
       "1                                  -0.242775             0.057344   \n",
       "\n",
       "                        Exercise frequency   Gen_new         0         1  \n",
       "ID                                0.023232 -0.013124  0.013124 -0.013124  \n",
       "Age                               0.075936  0.244468 -0.244468  0.244468  \n",
       "Sleep duration                   -0.070907 -0.044376  0.044376 -0.044376  \n",
       "Sleep efficiency                  0.258393  0.010062 -0.010062  0.010062  \n",
       "REM sleep percentage              0.037996 -0.161102  0.161102 -0.161102  \n",
       "Deep sleep percentage             0.174522  0.075939 -0.075939  0.075939  \n",
       "Light sleep percentage           -0.187152 -0.040534  0.040534 -0.040534  \n",
       "Awakenings                       -0.220395  0.074029 -0.074029  0.074029  \n",
       "Caffeine consumption             -0.072634 -0.242775  0.242775 -0.242775  \n",
       "Alcohol consumption               0.003563  0.057344 -0.057344  0.057344  \n",
       "Exercise frequency                1.000000  0.227299 -0.227299  0.227299  \n",
       "Gen_new                           0.227299  1.000000 -1.000000  1.000000  \n",
       "0                                -0.227299 -1.000000  1.000000 -1.000000  \n",
       "1                                 0.227299  1.000000 -1.000000  1.000000  "
      ]
     },
     "execution_count": 182,
     "metadata": {},
     "output_type": "execute_result"
    }
   ],
   "source": [
    "df.corr()"
   ]
  },
  {
   "cell_type": "code",
   "execution_count": 183,
   "id": "97a69d9d",
   "metadata": {},
   "outputs": [
    {
     "data": {
      "image/png": "[encoded data removed]",
      "text/plain": [
       "<Figure size 864x720 with 2 Axes>"
      ]
     },
     "metadata": {
      "needs_background": "light"
     },
     "output_type": "display_data"
    }
   ],
   "source": [
    "import seaborn as sns\n",
    "plt.figure(figsize=(12,10))\n",
    "corr_rel=df.corr()\n",
    "sns.heatmap(corr_rel,annot=True,cmap=plt.cm.Blues_r)\n",
    "plt.show()"
   ]
  },
  {
   "cell_type": "code",
   "execution_count": 184,
   "id": "9339d213",
   "metadata": {},
   "outputs": [],
   "source": [
    "def corre(data,threshold):\n",
    "    col_corr=set()\n",
    "    corr_matrix=data.corr()\n",
    "    for i in range(len(corr_matrix.columns)):\n",
    "        for j in range(i):\n",
    "            if abs(corr_matrix.iloc[i,j])>abs(threshold):\n",
    "                colname=corr_matrix.columns[j]\n",
    "                #colname=corr_matrix.columns[i]\n",
    "                col_corr.add(colname)\n",
    "    return col_corr"
   ]
  },
  {
   "cell_type": "code",
   "execution_count": 185,
   "id": "61cca2bc",
   "metadata": {},
   "outputs": [
    {
     "name": "stdout",
     "output_type": "stream",
     "text": [
      "4\n",
      "{0, 'Sleep efficiency', 'Deep sleep percentage', 'Gen_new'}\n"
     ]
    }
   ],
   "source": [
    "corr_features = corre(df, 0.7)\n",
    "co_features_len=len(set(corr_features))\n",
    "print(co_features_len)\n",
    "print(corr_features)"
   ]
  },
  {
   "cell_type": "code",
   "execution_count": 186,
   "id": "bf0f1384",
   "metadata": {},
   "outputs": [],
   "source": [
    "#df=df.drop(corr_features,axis=1)"
   ]
  },
  {
   "cell_type": "markdown",
   "id": "a3d2d7ed",
   "metadata": {},
   "source": [
    "### Outlier Detection"
   ]
  },
  {
   "cell_type": "markdown",
   "id": "b370d0bd",
   "metadata": {},
   "source": [
    "#### Z Score"
   ]
  },
  {
   "cell_type": "code",
   "execution_count": 187,
   "id": "e0578c5f",
   "metadata": {},
   "outputs": [],
   "source": [
    "z_score_outlier=[]\n",
    "def z_score_func(data):\n",
    "    threshold=3\n",
    "    mean=np.mean(data)\n",
    "    std=np.std(data)\n",
    "    \n",
    "    for i in data:\n",
    "        z_score=(1-mean)/std\n",
    "        if(np.abs(z_score)>threshold):\n",
    "            z_score_outlier.append(y)\n",
    "        return(z_score_outlier)"
   ]
  },
  {
   "cell_type": "code",
   "execution_count": 188,
   "id": "0e6fb633",
   "metadata": {},
   "outputs": [
    {
     "name": "stdout",
     "output_type": "stream",
     "text": [
      "[]\n"
     ]
    }
   ],
   "source": [
    "outlier_detect_awake=z_score_func(df['Awakenings'])\n",
    "print(outlier_detect_awake)"
   ]
  },
  {
   "cell_type": "markdown",
   "id": "47a1235f",
   "metadata": {},
   "source": [
    "#### Visualization"
   ]
  },
  {
   "cell_type": "code",
   "execution_count": 189,
   "id": "090d40bc",
   "metadata": {},
   "outputs": [
    {
     "name": "stderr",
     "output_type": "stream",
     "text": [
      "C:\\Users\\coder\\anaconda3\\lib\\site-packages\\seaborn\\_decorators.py:36: FutureWarning: Pass the following variable as a keyword arg: x. From version 0.12, the only valid positional argument will be `data`, and passing other arguments without an explicit keyword will result in an error or misinterpretation.\n",
      "  warnings.warn(\n"
     ]
    },
    {
     "data": {
      "text/plain": [
       "<AxesSubplot:xlabel='Age'>"
      ]
     },
     "execution_count": 189,
     "metadata": {},
     "output_type": "execute_result"
    },
    {
     "data": {
      "image/png": "[encoded data removed]",
      "text/plain": [
       "<Figure size 432x288 with 1 Axes>"
      ]
     },
     "metadata": {
      "needs_background": "light"
     },
     "output_type": "display_data"
    }
   ],
   "source": [
    "import seaborn as sns\n",
    "sns.boxplot('Age',data=df)"
   ]
  },
  {
   "cell_type": "code",
   "execution_count": 190,
   "id": "5d1e2a51",
   "metadata": {},
   "outputs": [
    {
     "name": "stderr",
     "output_type": "stream",
     "text": [
      "C:\\Users\\coder\\anaconda3\\lib\\site-packages\\seaborn\\_decorators.py:36: FutureWarning: Pass the following variable as a keyword arg: x. From version 0.12, the only valid positional argument will be `data`, and passing other arguments without an explicit keyword will result in an error or misinterpretation.\n",
      "  warnings.warn(\n"
     ]
    },
    {
     "data": {
      "text/plain": [
       "<AxesSubplot:xlabel='Caffeine consumption'>"
      ]
     },
     "execution_count": 190,
     "metadata": {},
     "output_type": "execute_result"
    },
    {
     "data": {
      "image/png": "[encoded data removed]",
      "text/plain": [
       "<Figure size 432x288 with 1 Axes>"
      ]
     },
     "metadata": {
      "needs_background": "light"
     },
     "output_type": "display_data"
    }
   ],
   "source": [
    "sns.boxplot('Caffeine consumption',data=df)"
   ]
  },
  {
   "cell_type": "code",
   "execution_count": 191,
   "id": "2b3cdd6f",
   "metadata": {},
   "outputs": [
    {
     "name": "stderr",
     "output_type": "stream",
     "text": [
      "C:\\Users\\coder\\anaconda3\\lib\\site-packages\\seaborn\\_decorators.py:36: FutureWarning: Pass the following variable as a keyword arg: x. From version 0.12, the only valid positional argument will be `data`, and passing other arguments without an explicit keyword will result in an error or misinterpretation.\n",
      "  warnings.warn(\n"
     ]
    },
    {
     "data": {
      "text/plain": [
       "<AxesSubplot:xlabel='Exercise frequency'>"
      ]
     },
     "execution_count": 191,
     "metadata": {},
     "output_type": "execute_result"
    },
    {
     "data": {
      "image/png": "[encoded data removed]",
      "text/plain": [
       "<Figure size 432x288 with 1 Axes>"
      ]
     },
     "metadata": {
      "needs_background": "light"
     },
     "output_type": "display_data"
    }
   ],
   "source": [
    "sns.boxplot('Exercise frequency',data=df)"
   ]
  },
  {
   "cell_type": "code",
   "execution_count": 192,
   "id": "e303a7b0",
   "metadata": {},
   "outputs": [],
   "source": [
    "X=df.drop(columns=['Sleep efficiency'],axis=1)\n",
    "y=df['Sleep efficiency']"
   ]
  },
  {
   "cell_type": "code",
   "execution_count": 193,
   "id": "ba13437e",
   "metadata": {},
   "outputs": [],
   "source": [
    "from sklearn.model_selection import train_test_split\n",
    "X_train, X_test, y_train, y_test = train_test_split(X, y, test_size = 0.3, random_state = 0)"
   ]
  },
  {
   "cell_type": "code",
   "execution_count": 194,
   "id": "3d3f7177",
   "metadata": {},
   "outputs": [
    {
     "name": "stderr",
     "output_type": "stream",
     "text": [
      "C:\\Users\\coder\\anaconda3\\lib\\site-packages\\sklearn\\utils\\validation.py:1688: FutureWarning: Feature names only support names that are all strings. Got feature names with dtypes: ['int', 'str']. An error will be raised in 1.2.\n",
      "  warnings.warn(\n",
      "C:\\Users\\coder\\anaconda3\\lib\\site-packages\\sklearn\\utils\\validation.py:964: FutureWarning: Arrays of bytes/strings is being converted to decimal numbers if dtype='numeric'. This behavior is deprecated in 0.24 and will be removed in 1.1 (renaming of 0.26). Please convert your data to numeric values explicitly instead.\n",
      "  X = check_array(\n"
     ]
    },
    {
     "ename": "ValueError",
     "evalue": "Unable to convert array of bytes/strings into decimal numbers with dtype='numeric'",
     "output_type": "error",
     "traceback": [
      "\u001b[1;31m---------------------------------------------------------------------------\u001b[0m",
      "\u001b[1;31mValueError\u001b[0m                                Traceback (most recent call last)",
      "File \u001b[1;32m~\\anaconda3\\lib\\site-packages\\sklearn\\utils\\validation.py:787\u001b[0m, in \u001b[0;36mcheck_array\u001b[1;34m(array, accept_sparse, accept_large_sparse, dtype, order, copy, force_all_finite, ensure_2d, allow_nd, ensure_min_samples, ensure_min_features, estimator)\u001b[0m\n\u001b[0;32m    786\u001b[0m \u001b[38;5;28;01mtry\u001b[39;00m:\n\u001b[1;32m--> 787\u001b[0m     array \u001b[38;5;241m=\u001b[39m \u001b[43marray\u001b[49m\u001b[38;5;241;43m.\u001b[39;49m\u001b[43mastype\u001b[49m\u001b[43m(\u001b[49m\u001b[43mnp\u001b[49m\u001b[38;5;241;43m.\u001b[39;49m\u001b[43mfloat64\u001b[49m\u001b[43m)\u001b[49m\n\u001b[0;32m    788\u001b[0m \u001b[38;5;28;01mexcept\u001b[39;00m \u001b[38;5;167;01mValueError\u001b[39;00m \u001b[38;5;28;01mas\u001b[39;00m e:\n",
      "\u001b[1;31mValueError\u001b[0m: could not convert string to float: 'Female'",
      "\nThe above exception was the direct cause of the following exception:\n",
      "\u001b[1;31mValueError\u001b[0m                                Traceback (most recent call last)",
      "Input \u001b[1;32mIn [194]\u001b[0m, in \u001b[0;36m<cell line: 4>\u001b[1;34m()\u001b[0m\n\u001b[0;32m      2\u001b[0m \u001b[38;5;28;01mfrom\u001b[39;00m \u001b[38;5;21;01msklearn\u001b[39;00m \u001b[38;5;28;01mimport\u001b[39;00m  linear_model\n\u001b[0;32m      3\u001b[0m reg \u001b[38;5;241m=\u001b[39m linear_model\u001b[38;5;241m.\u001b[39mLinearRegression()\n\u001b[1;32m----> 4\u001b[0m \u001b[43mreg\u001b[49m\u001b[38;5;241;43m.\u001b[39;49m\u001b[43mfit\u001b[49m\u001b[43m(\u001b[49m\u001b[43mX_train\u001b[49m\u001b[43m,\u001b[49m\u001b[43m \u001b[49m\u001b[43my_train\u001b[49m\u001b[43m)\u001b[49m\n",
      "File \u001b[1;32m~\\anaconda3\\lib\\site-packages\\sklearn\\linear_model\\_base.py:662\u001b[0m, in \u001b[0;36mLinearRegression.fit\u001b[1;34m(self, X, y, sample_weight)\u001b[0m\n\u001b[0;32m    658\u001b[0m n_jobs_ \u001b[38;5;241m=\u001b[39m \u001b[38;5;28mself\u001b[39m\u001b[38;5;241m.\u001b[39mn_jobs\n\u001b[0;32m    660\u001b[0m accept_sparse \u001b[38;5;241m=\u001b[39m \u001b[38;5;28;01mFalse\u001b[39;00m \u001b[38;5;28;01mif\u001b[39;00m \u001b[38;5;28mself\u001b[39m\u001b[38;5;241m.\u001b[39mpositive \u001b[38;5;28;01melse\u001b[39;00m [\u001b[38;5;124m\"\u001b[39m\u001b[38;5;124mcsr\u001b[39m\u001b[38;5;124m\"\u001b[39m, \u001b[38;5;124m\"\u001b[39m\u001b[38;5;124mcsc\u001b[39m\u001b[38;5;124m\"\u001b[39m, \u001b[38;5;124m\"\u001b[39m\u001b[38;5;124mcoo\u001b[39m\u001b[38;5;124m\"\u001b[39m]\n\u001b[1;32m--> 662\u001b[0m X, y \u001b[38;5;241m=\u001b[39m \u001b[38;5;28;43mself\u001b[39;49m\u001b[38;5;241;43m.\u001b[39;49m\u001b[43m_validate_data\u001b[49m\u001b[43m(\u001b[49m\n\u001b[0;32m    663\u001b[0m \u001b[43m    \u001b[49m\u001b[43mX\u001b[49m\u001b[43m,\u001b[49m\u001b[43m \u001b[49m\u001b[43my\u001b[49m\u001b[43m,\u001b[49m\u001b[43m \u001b[49m\u001b[43maccept_sparse\u001b[49m\u001b[38;5;241;43m=\u001b[39;49m\u001b[43maccept_sparse\u001b[49m\u001b[43m,\u001b[49m\u001b[43m \u001b[49m\u001b[43my_numeric\u001b[49m\u001b[38;5;241;43m=\u001b[39;49m\u001b[38;5;28;43;01mTrue\u001b[39;49;00m\u001b[43m,\u001b[49m\u001b[43m \u001b[49m\u001b[43mmulti_output\u001b[49m\u001b[38;5;241;43m=\u001b[39;49m\u001b[38;5;28;43;01mTrue\u001b[39;49;00m\n\u001b[0;32m    664\u001b[0m \u001b[43m\u001b[49m\u001b[43m)\u001b[49m\n\u001b[0;32m    666\u001b[0m \u001b[38;5;28;01mif\u001b[39;00m sample_weight \u001b[38;5;129;01mis\u001b[39;00m \u001b[38;5;129;01mnot\u001b[39;00m \u001b[38;5;28;01mNone\u001b[39;00m:\n\u001b[0;32m    667\u001b[0m     sample_weight \u001b[38;5;241m=\u001b[39m _check_sample_weight(sample_weight, X, dtype\u001b[38;5;241m=\u001b[39mX\u001b[38;5;241m.\u001b[39mdtype)\n",
      "File \u001b[1;32m~\\anaconda3\\lib\\site-packages\\sklearn\\base.py:581\u001b[0m, in \u001b[0;36mBaseEstimator._validate_data\u001b[1;34m(self, X, y, reset, validate_separately, **check_params)\u001b[0m\n\u001b[0;32m    579\u001b[0m         y \u001b[38;5;241m=\u001b[39m check_array(y, \u001b[38;5;241m*\u001b[39m\u001b[38;5;241m*\u001b[39mcheck_y_params)\n\u001b[0;32m    580\u001b[0m     \u001b[38;5;28;01melse\u001b[39;00m:\n\u001b[1;32m--> 581\u001b[0m         X, y \u001b[38;5;241m=\u001b[39m check_X_y(X, y, \u001b[38;5;241m*\u001b[39m\u001b[38;5;241m*\u001b[39mcheck_params)\n\u001b[0;32m    582\u001b[0m     out \u001b[38;5;241m=\u001b[39m X, y\n\u001b[0;32m    584\u001b[0m \u001b[38;5;28;01mif\u001b[39;00m \u001b[38;5;129;01mnot\u001b[39;00m no_val_X \u001b[38;5;129;01mand\u001b[39;00m check_params\u001b[38;5;241m.\u001b[39mget(\u001b[38;5;124m\"\u001b[39m\u001b[38;5;124mensure_2d\u001b[39m\u001b[38;5;124m\"\u001b[39m, \u001b[38;5;28;01mTrue\u001b[39;00m):\n",
      "File \u001b[1;32m~\\anaconda3\\lib\\site-packages\\sklearn\\utils\\validation.py:964\u001b[0m, in \u001b[0;36mcheck_X_y\u001b[1;34m(X, y, accept_sparse, accept_large_sparse, dtype, order, copy, force_all_finite, ensure_2d, allow_nd, multi_output, ensure_min_samples, ensure_min_features, y_numeric, estimator)\u001b[0m\n\u001b[0;32m    961\u001b[0m \u001b[38;5;28;01mif\u001b[39;00m y \u001b[38;5;129;01mis\u001b[39;00m \u001b[38;5;28;01mNone\u001b[39;00m:\n\u001b[0;32m    962\u001b[0m     \u001b[38;5;28;01mraise\u001b[39;00m \u001b[38;5;167;01mValueError\u001b[39;00m(\u001b[38;5;124m\"\u001b[39m\u001b[38;5;124my cannot be None\u001b[39m\u001b[38;5;124m\"\u001b[39m)\n\u001b[1;32m--> 964\u001b[0m X \u001b[38;5;241m=\u001b[39m \u001b[43mcheck_array\u001b[49m\u001b[43m(\u001b[49m\n\u001b[0;32m    965\u001b[0m \u001b[43m    \u001b[49m\u001b[43mX\u001b[49m\u001b[43m,\u001b[49m\n\u001b[0;32m    966\u001b[0m \u001b[43m    \u001b[49m\u001b[43maccept_sparse\u001b[49m\u001b[38;5;241;43m=\u001b[39;49m\u001b[43maccept_sparse\u001b[49m\u001b[43m,\u001b[49m\n\u001b[0;32m    967\u001b[0m \u001b[43m    \u001b[49m\u001b[43maccept_large_sparse\u001b[49m\u001b[38;5;241;43m=\u001b[39;49m\u001b[43maccept_large_sparse\u001b[49m\u001b[43m,\u001b[49m\n\u001b[0;32m    968\u001b[0m \u001b[43m    \u001b[49m\u001b[43mdtype\u001b[49m\u001b[38;5;241;43m=\u001b[39;49m\u001b[43mdtype\u001b[49m\u001b[43m,\u001b[49m\n\u001b[0;32m    969\u001b[0m \u001b[43m    \u001b[49m\u001b[43morder\u001b[49m\u001b[38;5;241;43m=\u001b[39;49m\u001b[43morder\u001b[49m\u001b[43m,\u001b[49m\n\u001b[0;32m    970\u001b[0m \u001b[43m    \u001b[49m\u001b[43mcopy\u001b[49m\u001b[38;5;241;43m=\u001b[39;49m\u001b[43mcopy\u001b[49m\u001b[43m,\u001b[49m\n\u001b[0;32m    971\u001b[0m \u001b[43m    \u001b[49m\u001b[43mforce_all_finite\u001b[49m\u001b[38;5;241;43m=\u001b[39;49m\u001b[43mforce_all_finite\u001b[49m\u001b[43m,\u001b[49m\n\u001b[0;32m    972\u001b[0m \u001b[43m    \u001b[49m\u001b[43mensure_2d\u001b[49m\u001b[38;5;241;43m=\u001b[39;49m\u001b[43mensure_2d\u001b[49m\u001b[43m,\u001b[49m\n\u001b[0;32m    973\u001b[0m \u001b[43m    \u001b[49m\u001b[43mallow_nd\u001b[49m\u001b[38;5;241;43m=\u001b[39;49m\u001b[43mallow_nd\u001b[49m\u001b[43m,\u001b[49m\n\u001b[0;32m    974\u001b[0m \u001b[43m    \u001b[49m\u001b[43mensure_min_samples\u001b[49m\u001b[38;5;241;43m=\u001b[39;49m\u001b[43mensure_min_samples\u001b[49m\u001b[43m,\u001b[49m\n\u001b[0;32m    975\u001b[0m \u001b[43m    \u001b[49m\u001b[43mensure_min_features\u001b[49m\u001b[38;5;241;43m=\u001b[39;49m\u001b[43mensure_min_features\u001b[49m\u001b[43m,\u001b[49m\n\u001b[0;32m    976\u001b[0m \u001b[43m    \u001b[49m\u001b[43mestimator\u001b[49m\u001b[38;5;241;43m=\u001b[39;49m\u001b[43mestimator\u001b[49m\u001b[43m,\u001b[49m\n\u001b[0;32m    977\u001b[0m \u001b[43m\u001b[49m\u001b[43m)\u001b[49m\n\u001b[0;32m    979\u001b[0m y \u001b[38;5;241m=\u001b[39m _check_y(y, multi_output\u001b[38;5;241m=\u001b[39mmulti_output, y_numeric\u001b[38;5;241m=\u001b[39my_numeric)\n\u001b[0;32m    981\u001b[0m check_consistent_length(X, y)\n",
      "File \u001b[1;32m~\\anaconda3\\lib\\site-packages\\sklearn\\utils\\validation.py:789\u001b[0m, in \u001b[0;36mcheck_array\u001b[1;34m(array, accept_sparse, accept_large_sparse, dtype, order, copy, force_all_finite, ensure_2d, allow_nd, ensure_min_samples, ensure_min_features, estimator)\u001b[0m\n\u001b[0;32m    787\u001b[0m         array \u001b[38;5;241m=\u001b[39m array\u001b[38;5;241m.\u001b[39mastype(np\u001b[38;5;241m.\u001b[39mfloat64)\n\u001b[0;32m    788\u001b[0m     \u001b[38;5;28;01mexcept\u001b[39;00m \u001b[38;5;167;01mValueError\u001b[39;00m \u001b[38;5;28;01mas\u001b[39;00m e:\n\u001b[1;32m--> 789\u001b[0m         \u001b[38;5;28;01mraise\u001b[39;00m \u001b[38;5;167;01mValueError\u001b[39;00m(\n\u001b[0;32m    790\u001b[0m             \u001b[38;5;124m\"\u001b[39m\u001b[38;5;124mUnable to convert array of bytes/strings \u001b[39m\u001b[38;5;124m\"\u001b[39m\n\u001b[0;32m    791\u001b[0m             \u001b[38;5;124m\"\u001b[39m\u001b[38;5;124minto decimal numbers with dtype=\u001b[39m\u001b[38;5;124m'\u001b[39m\u001b[38;5;124mnumeric\u001b[39m\u001b[38;5;124m'\u001b[39m\u001b[38;5;124m\"\u001b[39m\n\u001b[0;32m    792\u001b[0m         ) \u001b[38;5;28;01mfrom\u001b[39;00m \u001b[38;5;21;01me\u001b[39;00m\n\u001b[0;32m    793\u001b[0m \u001b[38;5;28;01mif\u001b[39;00m \u001b[38;5;129;01mnot\u001b[39;00m allow_nd \u001b[38;5;129;01mand\u001b[39;00m array\u001b[38;5;241m.\u001b[39mndim \u001b[38;5;241m>\u001b[39m\u001b[38;5;241m=\u001b[39m \u001b[38;5;241m3\u001b[39m:\n\u001b[0;32m    794\u001b[0m     \u001b[38;5;28;01mraise\u001b[39;00m \u001b[38;5;167;01mValueError\u001b[39;00m(\n\u001b[0;32m    795\u001b[0m         \u001b[38;5;124m\"\u001b[39m\u001b[38;5;124mFound array with dim \u001b[39m\u001b[38;5;132;01m%d\u001b[39;00m\u001b[38;5;124m. \u001b[39m\u001b[38;5;132;01m%s\u001b[39;00m\u001b[38;5;124m expected <= 2.\u001b[39m\u001b[38;5;124m\"\u001b[39m\n\u001b[0;32m    796\u001b[0m         \u001b[38;5;241m%\u001b[39m (array\u001b[38;5;241m.\u001b[39mndim, estimator_name)\n\u001b[0;32m    797\u001b[0m     )\n",
      "\u001b[1;31mValueError\u001b[0m: Unable to convert array of bytes/strings into decimal numbers with dtype='numeric'"
     ]
    }
   ],
   "source": [
    "#from sklearn.linear_model import LinearRegression\n",
    "from sklearn import  linear_model\n",
    "reg = linear_model.LinearRegression()\n",
    "reg.fit(X_train, y_train)\n",
    "#reg = LinearRegression().fit(X, y)"
   ]
  },
  {
   "cell_type": "code",
   "execution_count": null,
   "id": "7c67ea72",
   "metadata": {},
   "outputs": [],
   "source": []
  }
 ],
 "metadata": {
  "kernelspec": {
   "display_name": "Python 3 (ipykernel)",
   "language": "python",
   "name": "python3"
  },
  "language_info": {
   "codemirror_mode": {
    "name": "ipython",
    "version": 3
   },
   "file_extension": ".py",
   "mimetype": "text/x-python",
   "name": "python",
   "nbconvert_exporter": "python",
   "pygments_lexer": "ipython3",
   "version": "3.9.12"
  }
 },
 "nbformat": 4,
 "nbformat_minor": 5
}
